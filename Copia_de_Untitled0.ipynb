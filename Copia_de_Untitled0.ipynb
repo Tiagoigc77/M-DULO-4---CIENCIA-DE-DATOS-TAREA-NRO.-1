{
  "nbformat": 4,
  "nbformat_minor": 0,
  "metadata": {
    "colab": {
      "provenance": []
    },
    "kernelspec": {
      "name": "python3",
      "display_name": "Python 3"
    },
    "language_info": {
      "name": "python"
    }
  },
  "cells": [
    {
      "cell_type": "code",
      "execution_count": 3,
      "metadata": {
        "id": "Mzpy5f0CEj9i"
      },
      "outputs": [],
      "source": [
        "from bs4 import BeautifulSoup\n",
        "import requests"
      ]
    },
    {
      "cell_type": "code",
      "source": [
        "URL_BASE = 'https://scrapepark.org/courses/spanish/'\n",
        "pedido_obtenido = requests.get(URL_BASE)\n",
        "html_obtenido = pedido_obtenido.text\n",
        "soup = BeautifulSoup(html_obtenido, \"html.parser\")"
      ],
      "metadata": {
        "id": "FSwlD-odOMsL"
      },
      "execution_count": 4,
      "outputs": []
    },
    {
      "cell_type": "code",
      "source": [
        "carousel_items = soup.find_all('div', class_='carousel-item')\n",
        "\n",
        "clientes = []\n",
        "testimonios = []\n",
        "\n",
        "for item in carousel_items:\n",
        "    nombre_elemento = item.find('h5', class_='cliente-nombre')\n",
        "    testimonio_elemento = item.find('p', class_='cliente-comentario')\n",
        "\n",
        "    if nombre_elemento and testimonio_elemento:\n",
        "        nombre_cliente = nombre_elemento.text.strip()\n",
        "        testimonio_cliente = testimonio_elemento.text.strip()\n",
        "\n",
        "        clientes.append(nombre_cliente)\n",
        "        testimonios.append(testimonio_cliente)\n",
        "\n",
        "print(\"\\033[1m{:<10} {:<10}\\033[0m\".format(\"Clientes\", \"Testimonios\"))\n",
        "\n",
        "for cliente, testimonio in zip(clientes, testimonios):\n",
        "    print(\"{:<10} {:<10}\".format(cliente, testimonio))"
      ],
      "metadata": {
        "colab": {
          "base_uri": "https://localhost:8080/"
        },
        "id": "b2AEHHjEdy3D",
        "outputId": "1c77704a-e285-4537-cea5-fa04c903bec7"
      },
      "execution_count": 14,
      "outputs": [
        {
          "output_type": "stream",
          "name": "stdout",
          "text": [
            "\u001b[1mClientes   Testimonios\u001b[0m\n",
            "Cliente 1  Los productos me encantaron y los precios son muy buenos. Lo recomiendo.\n",
            "Cliente 2  ¡La calidad y variedad de patinetas es impresionante! Definitivamente volveré a comprar.\n",
            "Cliente 3  Estoy muy conforme. Hay muchas patinetas y los diseños son fantásticos.\n"
          ]
        }
      ]
    },
    {
      "cell_type": "code",
      "source": [
        "import csv\n",
        "\n",
        "nombre_archivo_csv = \"Testimonios_Clientes.csv\"\n",
        "\n",
        "with open(nombre_archivo_csv, mode='w', newline='', encoding='utf-8') as archivo_csv:\n",
        "    escritor_csv = csv.writer(archivo_csv)\n",
        "\n",
        "    escritor_csv.writerow([\"Clientes\", \"Testimonios\"])\n",
        "\n",
        "    for cliente, testimonio in zip(clientes, testimonios):\n",
        "        escritor_csv.writerow([cliente, testimonio])\n"
      ],
      "metadata": {
        "id": "g98pNXUXeEyQ"
      },
      "execution_count": 18,
      "outputs": []
    }
  ]
}